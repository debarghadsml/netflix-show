{
 "cells": [
  {
   "cell_type": "code",
   "execution_count": 1,
   "id": "a4042dc7",
   "metadata": {
    "_cell_guid": "b1076dfc-b9ad-4769-8c92-a6c4dae69d19",
    "_uuid": "8f2839f25d086af736a60e9eeb907d3b93b6e0e5",
    "execution": {
     "iopub.execute_input": "2023-06-22T05:02:07.437068Z",
     "iopub.status.busy": "2023-06-22T05:02:07.435907Z",
     "iopub.status.idle": "2023-06-22T05:02:07.460348Z",
     "shell.execute_reply": "2023-06-22T05:02:07.458513Z"
    },
    "papermill": {
     "duration": 0.043524,
     "end_time": "2023-06-22T05:02:07.463609",
     "exception": false,
     "start_time": "2023-06-22T05:02:07.420085",
     "status": "completed"
    },
    "tags": []
   },
   "outputs": [
    {
     "name": "stdout",
     "output_type": "stream",
     "text": [
      "/kaggle/input/dataset-netflix-shows/netflix_titles.csv\n"
     ]
    }
   ],
   "source": [
    "# This Python 3 environment comes with many helpful analytics libraries installed\n",
    "# It is defined by the kaggle/python Docker image: https://github.com/kaggle/docker-python\n",
    "# For example, here's several helpful packages to load\n",
    "\n",
    "import numpy as np # linear algebra\n",
    "import pandas as pd # data processing, CSV file I/O (e.g. pd.read_csv)\n",
    "\n",
    "# Input data files are available in the read-only \"../input/\" directory\n",
    "# For example, running this (by clicking run or pressing Shift+Enter) will list all files under the input directory\n",
    "\n",
    "import os\n",
    "for dirname, _, filenames in os.walk('/kaggle/input'):\n",
    "    for filename in filenames:\n",
    "        print(os.path.join(dirname, filename))\n",
    "\n",
    "# You can write up to 20GB to the current directory (/kaggle/working/) that gets preserved as output when you create a version using \"Save & Run All\" \n",
    "# You can also write temporary files to /kaggle/temp/, but they won't be saved outside of the current session"
   ]
  },
  {
   "cell_type": "code",
   "execution_count": 2,
   "id": "0402f38f",
   "metadata": {
    "execution": {
     "iopub.execute_input": "2023-06-22T05:02:07.487856Z",
     "iopub.status.busy": "2023-06-22T05:02:07.487459Z",
     "iopub.status.idle": "2023-06-22T05:02:09.126010Z",
     "shell.execute_reply": "2023-06-22T05:02:09.123957Z"
    },
    "papermill": {
     "duration": 1.653894,
     "end_time": "2023-06-22T05:02:09.128827",
     "exception": false,
     "start_time": "2023-06-22T05:02:07.474933",
     "status": "completed"
    },
    "tags": []
   },
   "outputs": [],
   "source": [
    "import numpy as np\n",
    "import pandas as pd\n",
    "import matplotlib.pyplot as plt\n",
    "import seaborn as sns"
   ]
  },
  {
   "cell_type": "code",
   "execution_count": 3,
   "id": "870edbdc",
   "metadata": {
    "execution": {
     "iopub.execute_input": "2023-06-22T05:02:09.151764Z",
     "iopub.status.busy": "2023-06-22T05:02:09.151345Z",
     "iopub.status.idle": "2023-06-22T05:02:09.295141Z",
     "shell.execute_reply": "2023-06-22T05:02:09.293874Z"
    },
    "papermill": {
     "duration": 0.158647,
     "end_time": "2023-06-22T05:02:09.297992",
     "exception": false,
     "start_time": "2023-06-22T05:02:09.139345",
     "status": "completed"
    },
    "tags": []
   },
   "outputs": [],
   "source": [
    "df = pd.read_csv(r'/kaggle/input/dataset-netflix-shows/netflix_titles.csv' , index_col = 'show_id')"
   ]
  },
  {
   "cell_type": "code",
   "execution_count": 4,
   "id": "eae79414",
   "metadata": {
    "execution": {
     "iopub.execute_input": "2023-06-22T05:02:09.321712Z",
     "iopub.status.busy": "2023-06-22T05:02:09.321030Z",
     "iopub.status.idle": "2023-06-22T05:02:09.352032Z",
     "shell.execute_reply": "2023-06-22T05:02:09.350210Z"
    },
    "papermill": {
     "duration": 0.045799,
     "end_time": "2023-06-22T05:02:09.354734",
     "exception": false,
     "start_time": "2023-06-22T05:02:09.308935",
     "status": "completed"
    },
    "tags": []
   },
   "outputs": [
    {
     "data": {
      "text/html": [
       "<div>\n",
       "<style scoped>\n",
       "    .dataframe tbody tr th:only-of-type {\n",
       "        vertical-align: middle;\n",
       "    }\n",
       "\n",
       "    .dataframe tbody tr th {\n",
       "        vertical-align: top;\n",
       "    }\n",
       "\n",
       "    .dataframe thead th {\n",
       "        text-align: right;\n",
       "    }\n",
       "</style>\n",
       "<table border=\"1\" class=\"dataframe\">\n",
       "  <thead>\n",
       "    <tr style=\"text-align: right;\">\n",
       "      <th></th>\n",
       "      <th>type</th>\n",
       "      <th>title</th>\n",
       "      <th>director</th>\n",
       "      <th>cast</th>\n",
       "      <th>country</th>\n",
       "      <th>date_added</th>\n",
       "      <th>release_year</th>\n",
       "      <th>rating</th>\n",
       "      <th>duration</th>\n",
       "      <th>listed_in</th>\n",
       "      <th>description</th>\n",
       "    </tr>\n",
       "    <tr>\n",
       "      <th>show_id</th>\n",
       "      <th></th>\n",
       "      <th></th>\n",
       "      <th></th>\n",
       "      <th></th>\n",
       "      <th></th>\n",
       "      <th></th>\n",
       "      <th></th>\n",
       "      <th></th>\n",
       "      <th></th>\n",
       "      <th></th>\n",
       "      <th></th>\n",
       "    </tr>\n",
       "  </thead>\n",
       "  <tbody>\n",
       "    <tr>\n",
       "      <th>s1</th>\n",
       "      <td>Movie</td>\n",
       "      <td>Dick Johnson Is Dead</td>\n",
       "      <td>Kirsten Johnson</td>\n",
       "      <td>NaN</td>\n",
       "      <td>United States</td>\n",
       "      <td>September 25, 2021</td>\n",
       "      <td>2020</td>\n",
       "      <td>PG-13</td>\n",
       "      <td>90 min</td>\n",
       "      <td>Documentaries</td>\n",
       "      <td>As her father nears the end of his life, filmm...</td>\n",
       "    </tr>\n",
       "    <tr>\n",
       "      <th>s2</th>\n",
       "      <td>TV Show</td>\n",
       "      <td>Blood &amp; Water</td>\n",
       "      <td>NaN</td>\n",
       "      <td>Ama Qamata, Khosi Ngema, Gail Mabalane, Thaban...</td>\n",
       "      <td>South Africa</td>\n",
       "      <td>September 24, 2021</td>\n",
       "      <td>2021</td>\n",
       "      <td>TV-MA</td>\n",
       "      <td>2 Seasons</td>\n",
       "      <td>International TV Shows, TV Dramas, TV Mysteries</td>\n",
       "      <td>After crossing paths at a party, a Cape Town t...</td>\n",
       "    </tr>\n",
       "    <tr>\n",
       "      <th>s3</th>\n",
       "      <td>TV Show</td>\n",
       "      <td>Ganglands</td>\n",
       "      <td>Julien Leclercq</td>\n",
       "      <td>Sami Bouajila, Tracy Gotoas, Samuel Jouy, Nabi...</td>\n",
       "      <td>NaN</td>\n",
       "      <td>September 24, 2021</td>\n",
       "      <td>2021</td>\n",
       "      <td>TV-MA</td>\n",
       "      <td>1 Season</td>\n",
       "      <td>Crime TV Shows, International TV Shows, TV Act...</td>\n",
       "      <td>To protect his family from a powerful drug lor...</td>\n",
       "    </tr>\n",
       "    <tr>\n",
       "      <th>s4</th>\n",
       "      <td>TV Show</td>\n",
       "      <td>Jailbirds New Orleans</td>\n",
       "      <td>NaN</td>\n",
       "      <td>NaN</td>\n",
       "      <td>NaN</td>\n",
       "      <td>September 24, 2021</td>\n",
       "      <td>2021</td>\n",
       "      <td>TV-MA</td>\n",
       "      <td>1 Season</td>\n",
       "      <td>Docuseries, Reality TV</td>\n",
       "      <td>Feuds, flirtations and toilet talk go down amo...</td>\n",
       "    </tr>\n",
       "    <tr>\n",
       "      <th>s5</th>\n",
       "      <td>TV Show</td>\n",
       "      <td>Kota Factory</td>\n",
       "      <td>NaN</td>\n",
       "      <td>Mayur More, Jitendra Kumar, Ranjan Raj, Alam K...</td>\n",
       "      <td>India</td>\n",
       "      <td>September 24, 2021</td>\n",
       "      <td>2021</td>\n",
       "      <td>TV-MA</td>\n",
       "      <td>2 Seasons</td>\n",
       "      <td>International TV Shows, Romantic TV Shows, TV ...</td>\n",
       "      <td>In a city of coaching centers known to train I...</td>\n",
       "    </tr>\n",
       "  </tbody>\n",
       "</table>\n",
       "</div>"
      ],
      "text/plain": [
       "            type                  title         director  \\\n",
       "show_id                                                    \n",
       "s1         Movie   Dick Johnson Is Dead  Kirsten Johnson   \n",
       "s2       TV Show          Blood & Water              NaN   \n",
       "s3       TV Show              Ganglands  Julien Leclercq   \n",
       "s4       TV Show  Jailbirds New Orleans              NaN   \n",
       "s5       TV Show           Kota Factory              NaN   \n",
       "\n",
       "                                                      cast        country  \\\n",
       "show_id                                                                     \n",
       "s1                                                     NaN  United States   \n",
       "s2       Ama Qamata, Khosi Ngema, Gail Mabalane, Thaban...   South Africa   \n",
       "s3       Sami Bouajila, Tracy Gotoas, Samuel Jouy, Nabi...            NaN   \n",
       "s4                                                     NaN            NaN   \n",
       "s5       Mayur More, Jitendra Kumar, Ranjan Raj, Alam K...          India   \n",
       "\n",
       "                 date_added  release_year rating   duration  \\\n",
       "show_id                                                       \n",
       "s1       September 25, 2021          2020  PG-13     90 min   \n",
       "s2       September 24, 2021          2021  TV-MA  2 Seasons   \n",
       "s3       September 24, 2021          2021  TV-MA   1 Season   \n",
       "s4       September 24, 2021          2021  TV-MA   1 Season   \n",
       "s5       September 24, 2021          2021  TV-MA  2 Seasons   \n",
       "\n",
       "                                                 listed_in  \\\n",
       "show_id                                                      \n",
       "s1                                           Documentaries   \n",
       "s2         International TV Shows, TV Dramas, TV Mysteries   \n",
       "s3       Crime TV Shows, International TV Shows, TV Act...   \n",
       "s4                                  Docuseries, Reality TV   \n",
       "s5       International TV Shows, Romantic TV Shows, TV ...   \n",
       "\n",
       "                                               description  \n",
       "show_id                                                     \n",
       "s1       As her father nears the end of his life, filmm...  \n",
       "s2       After crossing paths at a party, a Cape Town t...  \n",
       "s3       To protect his family from a powerful drug lor...  \n",
       "s4       Feuds, flirtations and toilet talk go down amo...  \n",
       "s5       In a city of coaching centers known to train I...  "
      ]
     },
     "execution_count": 4,
     "metadata": {},
     "output_type": "execute_result"
    }
   ],
   "source": [
    "df.head()"
   ]
  },
  {
   "cell_type": "markdown",
   "id": "83eec271",
   "metadata": {
    "papermill": {
     "duration": 0.010527,
     "end_time": "2023-06-22T05:02:09.376795",
     "exception": false,
     "start_time": "2023-06-22T05:02:09.366268",
     "status": "completed"
    },
    "tags": []
   },
   "source": [
    "## **let us see how much type of shows are listed in dataset**"
   ]
  },
  {
   "cell_type": "code",
   "execution_count": 5,
   "id": "a81e45ba",
   "metadata": {
    "execution": {
     "iopub.execute_input": "2023-06-22T05:02:09.401012Z",
     "iopub.status.busy": "2023-06-22T05:02:09.400586Z",
     "iopub.status.idle": "2023-06-22T05:02:09.596483Z",
     "shell.execute_reply": "2023-06-22T05:02:09.595656Z"
    },
    "papermill": {
     "duration": 0.211604,
     "end_time": "2023-06-22T05:02:09.599334",
     "exception": false,
     "start_time": "2023-06-22T05:02:09.387730",
     "status": "completed"
    },
    "tags": []
   },
   "outputs": [
    {
     "data": {
      "text/plain": [
       "<Axes: xlabel='type', ylabel='count'>"
      ]
     },
     "execution_count": 5,
     "metadata": {},
     "output_type": "execute_result"
    },
    {
     "data": {
      "image/png": "[encoded data removed]",
      "text/plain": [
       "<Figure size 640x480 with 1 Axes>"
      ]
     },
     "metadata": {},
     "output_type": "display_data"
    }
   ],
   "source": [
    "sns.countplot(df , x = 'type')"
   ]
  },
  {
   "cell_type": "markdown",
   "id": "f6232898",
   "metadata": {
    "papermill": {
     "duration": 0.01074,
     "end_time": "2023-06-22T05:02:09.621478",
     "exception": false,
     "start_time": "2023-06-22T05:02:09.610738",
     "status": "completed"
    },
    "tags": []
   },
   "source": [
    "# **top 10 list of highest duration show**"
   ]
  },
  {
   "cell_type": "code",
   "execution_count": 6,
   "id": "86a0c6b6",
   "metadata": {
    "execution": {
     "iopub.execute_input": "2023-06-22T05:02:09.646549Z",
     "iopub.status.busy": "2023-06-22T05:02:09.645868Z",
     "iopub.status.idle": "2023-06-22T05:02:09.665632Z",
     "shell.execute_reply": "2023-06-22T05:02:09.663412Z"
    },
    "papermill": {
     "duration": 0.036251,
     "end_time": "2023-06-22T05:02:09.668944",
     "exception": false,
     "start_time": "2023-06-22T05:02:09.632693",
     "status": "completed"
    },
    "tags": []
   },
   "outputs": [
    {
     "data": {
      "text/html": [
       "<div>\n",
       "<style scoped>\n",
       "    .dataframe tbody tr th:only-of-type {\n",
       "        vertical-align: middle;\n",
       "    }\n",
       "\n",
       "    .dataframe tbody tr th {\n",
       "        vertical-align: top;\n",
       "    }\n",
       "\n",
       "    .dataframe thead th {\n",
       "        text-align: right;\n",
       "    }\n",
       "</style>\n",
       "<table border=\"1\" class=\"dataframe\">\n",
       "  <thead>\n",
       "    <tr style=\"text-align: right;\">\n",
       "      <th></th>\n",
       "      <th>title</th>\n",
       "      <th>duration</th>\n",
       "    </tr>\n",
       "    <tr>\n",
       "      <th>show_id</th>\n",
       "      <th></th>\n",
       "      <th></th>\n",
       "    </tr>\n",
       "  </thead>\n",
       "  <tbody>\n",
       "    <tr>\n",
       "      <th>s1330</th>\n",
       "      <td>The Misadventures of Hedi and Cokeman</td>\n",
       "      <td>99 min</td>\n",
       "    </tr>\n",
       "    <tr>\n",
       "      <th>s6279</th>\n",
       "      <td>Being AP</td>\n",
       "      <td>99 min</td>\n",
       "    </tr>\n",
       "    <tr>\n",
       "      <th>s953</th>\n",
       "      <td>The Whole Nine Yards</td>\n",
       "      <td>99 min</td>\n",
       "    </tr>\n",
       "    <tr>\n",
       "      <th>s6142</th>\n",
       "      <td>American Hangman</td>\n",
       "      <td>99 min</td>\n",
       "    </tr>\n",
       "    <tr>\n",
       "      <th>s930</th>\n",
       "      <td>Dead Again in Tombstone</td>\n",
       "      <td>99 min</td>\n",
       "    </tr>\n",
       "    <tr>\n",
       "      <th>s5147</th>\n",
       "      <td>The Worthy</td>\n",
       "      <td>99 min</td>\n",
       "    </tr>\n",
       "    <tr>\n",
       "      <th>s911</th>\n",
       "      <td>Monster</td>\n",
       "      <td>99 min</td>\n",
       "    </tr>\n",
       "    <tr>\n",
       "      <th>s2781</th>\n",
       "      <td>Curtiz</td>\n",
       "      <td>99 min</td>\n",
       "    </tr>\n",
       "    <tr>\n",
       "      <th>s895</th>\n",
       "      <td>Dance of the Forty One</td>\n",
       "      <td>99 min</td>\n",
       "    </tr>\n",
       "  </tbody>\n",
       "</table>\n",
       "</div>"
      ],
      "text/plain": [
       "                                         title duration\n",
       "show_id                                                \n",
       "s1330    The Misadventures of Hedi and Cokeman   99 min\n",
       "s6279                                 Being AP   99 min\n",
       "s953                      The Whole Nine Yards   99 min\n",
       "s6142                         American Hangman   99 min\n",
       "s930                   Dead Again in Tombstone   99 min\n",
       "s5147                               The Worthy   99 min\n",
       "s911                                   Monster   99 min\n",
       "s2781                                   Curtiz   99 min\n",
       "s895                    Dance of the Forty One   99 min"
      ]
     },
     "execution_count": 6,
     "metadata": {},
     "output_type": "execute_result"
    }
   ],
   "source": [
    "df[['title' , 'duration']].sort_values(ascending = False , by = 'duration')[0:9]"
   ]
  },
  {
   "cell_type": "code",
   "execution_count": 7,
   "id": "afd121c1",
   "metadata": {
    "execution": {
     "iopub.execute_input": "2023-06-22T05:02:09.694782Z",
     "iopub.status.busy": "2023-06-22T05:02:09.694312Z",
     "iopub.status.idle": "2023-06-22T05:02:09.730616Z",
     "shell.execute_reply": "2023-06-22T05:02:09.729557Z"
    },
    "papermill": {
     "duration": 0.052343,
     "end_time": "2023-06-22T05:02:09.733211",
     "exception": false,
     "start_time": "2023-06-22T05:02:09.680868",
     "status": "completed"
    },
    "tags": []
   },
   "outputs": [
    {
     "name": "stdout",
     "output_type": "stream",
     "text": [
      "<class 'pandas.core.frame.DataFrame'>\n",
      "Index: 8807 entries, s1 to s8807\n",
      "Data columns (total 11 columns):\n",
      " #   Column        Non-Null Count  Dtype \n",
      "---  ------        --------------  ----- \n",
      " 0   type          8807 non-null   object\n",
      " 1   title         8807 non-null   object\n",
      " 2   director      6173 non-null   object\n",
      " 3   cast          7982 non-null   object\n",
      " 4   country       7976 non-null   object\n",
      " 5   date_added    8797 non-null   object\n",
      " 6   release_year  8807 non-null   int64 \n",
      " 7   rating        8803 non-null   object\n",
      " 8   duration      8804 non-null   object\n",
      " 9   listed_in     8807 non-null   object\n",
      " 10  description   8807 non-null   object\n",
      "dtypes: int64(1), object(10)\n",
      "memory usage: 1.1+ MB\n"
     ]
    }
   ],
   "source": [
    "df.info()"
   ]
  },
  {
   "cell_type": "markdown",
   "id": "b41f0380",
   "metadata": {
    "papermill": {
     "duration": 0.011427,
     "end_time": "2023-06-22T05:02:09.756639",
     "exception": false,
     "start_time": "2023-06-22T05:02:09.745212",
     "status": "completed"
    },
    "tags": []
   },
   "source": [
    "# **top 10 largest duration movie in 2021**"
   ]
  },
  {
   "cell_type": "code",
   "execution_count": 8,
   "id": "e777268a",
   "metadata": {
    "execution": {
     "iopub.execute_input": "2023-06-22T05:02:09.783749Z",
     "iopub.status.busy": "2023-06-22T05:02:09.783240Z",
     "iopub.status.idle": "2023-06-22T05:02:09.793517Z",
     "shell.execute_reply": "2023-06-22T05:02:09.791438Z"
    },
    "papermill": {
     "duration": 0.028423,
     "end_time": "2023-06-22T05:02:09.797033",
     "exception": false,
     "start_time": "2023-06-22T05:02:09.768610",
     "status": "completed"
    },
    "tags": []
   },
   "outputs": [],
   "source": [
    "movie_21 = df[df['release_year'] == 2021].sort_values(ascending = False , by = 'duration')[0:10]"
   ]
  },
  {
   "cell_type": "code",
   "execution_count": 9,
   "id": "d50edda8",
   "metadata": {
    "execution": {
     "iopub.execute_input": "2023-06-22T05:02:09.822214Z",
     "iopub.status.busy": "2023-06-22T05:02:09.821744Z",
     "iopub.status.idle": "2023-06-22T05:02:09.834977Z",
     "shell.execute_reply": "2023-06-22T05:02:09.833714Z"
    },
    "papermill": {
     "duration": 0.029339,
     "end_time": "2023-06-22T05:02:09.838210",
     "exception": false,
     "start_time": "2023-06-22T05:02:09.808871",
     "status": "completed"
    },
    "tags": []
   },
   "outputs": [
    {
     "data": {
      "text/html": [
       "<div>\n",
       "<style scoped>\n",
       "    .dataframe tbody tr th:only-of-type {\n",
       "        vertical-align: middle;\n",
       "    }\n",
       "\n",
       "    .dataframe tbody tr th {\n",
       "        vertical-align: top;\n",
       "    }\n",
       "\n",
       "    .dataframe thead th {\n",
       "        text-align: right;\n",
       "    }\n",
       "</style>\n",
       "<table border=\"1\" class=\"dataframe\">\n",
       "  <thead>\n",
       "    <tr style=\"text-align: right;\">\n",
       "      <th></th>\n",
       "      <th>title</th>\n",
       "      <th>release_year</th>\n",
       "      <th>duration</th>\n",
       "    </tr>\n",
       "    <tr>\n",
       "      <th>show_id</th>\n",
       "      <th></th>\n",
       "      <th></th>\n",
       "      <th></th>\n",
       "    </tr>\n",
       "  </thead>\n",
       "  <tbody>\n",
       "    <tr>\n",
       "      <th>s895</th>\n",
       "      <td>Dance of the Forty One</td>\n",
       "      <td>2021</td>\n",
       "      <td>99 min</td>\n",
       "    </tr>\n",
       "    <tr>\n",
       "      <th>s911</th>\n",
       "      <td>Monster</td>\n",
       "      <td>2021</td>\n",
       "      <td>99 min</td>\n",
       "    </tr>\n",
       "    <tr>\n",
       "      <th>s878</th>\n",
       "      <td>Cinema Bandi</td>\n",
       "      <td>2021</td>\n",
       "      <td>99 min</td>\n",
       "    </tr>\n",
       "    <tr>\n",
       "      <th>s782</th>\n",
       "      <td>Black Holes | The Edge of All We Know</td>\n",
       "      <td>2021</td>\n",
       "      <td>99 min</td>\n",
       "    </tr>\n",
       "    <tr>\n",
       "      <th>s1330</th>\n",
       "      <td>The Misadventures of Hedi and Cokeman</td>\n",
       "      <td>2021</td>\n",
       "      <td>99 min</td>\n",
       "    </tr>\n",
       "    <tr>\n",
       "      <th>s427</th>\n",
       "      <td>Cousins</td>\n",
       "      <td>2021</td>\n",
       "      <td>99 min</td>\n",
       "    </tr>\n",
       "    <tr>\n",
       "      <th>s1189</th>\n",
       "      <td>Get the Goat</td>\n",
       "      <td>2021</td>\n",
       "      <td>98 min</td>\n",
       "    </tr>\n",
       "    <tr>\n",
       "      <th>s910</th>\n",
       "      <td>Milestone</td>\n",
       "      <td>2021</td>\n",
       "      <td>98 min</td>\n",
       "    </tr>\n",
       "    <tr>\n",
       "      <th>s1157</th>\n",
       "      <td>A Week Away</td>\n",
       "      <td>2021</td>\n",
       "      <td>98 min</td>\n",
       "    </tr>\n",
       "    <tr>\n",
       "      <th>s619</th>\n",
       "      <td>America: The Motion Picture</td>\n",
       "      <td>2021</td>\n",
       "      <td>98 min</td>\n",
       "    </tr>\n",
       "  </tbody>\n",
       "</table>\n",
       "</div>"
      ],
      "text/plain": [
       "                                         title  release_year duration\n",
       "show_id                                                              \n",
       "s895                    Dance of the Forty One          2021   99 min\n",
       "s911                                   Monster          2021   99 min\n",
       "s878                              Cinema Bandi          2021   99 min\n",
       "s782     Black Holes | The Edge of All We Know          2021   99 min\n",
       "s1330    The Misadventures of Hedi and Cokeman          2021   99 min\n",
       "s427                                   Cousins          2021   99 min\n",
       "s1189                             Get the Goat          2021   98 min\n",
       "s910                                 Milestone          2021   98 min\n",
       "s1157                              A Week Away          2021   98 min\n",
       "s619               America: The Motion Picture          2021   98 min"
      ]
     },
     "execution_count": 9,
     "metadata": {},
     "output_type": "execute_result"
    }
   ],
   "source": [
    "movie_21[[ 'title' ,'release_year' , 'duration']]"
   ]
  },
  {
   "cell_type": "markdown",
   "id": "4db26881",
   "metadata": {
    "papermill": {
     "duration": 0.011092,
     "end_time": "2023-06-22T05:02:09.861523",
     "exception": false,
     "start_time": "2023-06-22T05:02:09.850431",
     "status": "completed"
    },
    "tags": []
   },
   "source": [
    "# **filling the null value**"
   ]
  },
  {
   "cell_type": "code",
   "execution_count": 10,
   "id": "717ce7be",
   "metadata": {
    "execution": {
     "iopub.execute_input": "2023-06-22T05:02:09.885778Z",
     "iopub.status.busy": "2023-06-22T05:02:09.885379Z",
     "iopub.status.idle": "2023-06-22T05:02:09.906878Z",
     "shell.execute_reply": "2023-06-22T05:02:09.906091Z"
    },
    "papermill": {
     "duration": 0.036253,
     "end_time": "2023-06-22T05:02:09.908873",
     "exception": false,
     "start_time": "2023-06-22T05:02:09.872620",
     "status": "completed"
    },
    "tags": []
   },
   "outputs": [],
   "source": [
    "null_df = pd.DataFrame(df.isnull().sum().sort_values(ascending = False)*100/len(df))[0:6]"
   ]
  },
  {
   "cell_type": "code",
   "execution_count": 11,
   "id": "e0edda3e",
   "metadata": {
    "execution": {
     "iopub.execute_input": "2023-06-22T05:02:09.934587Z",
     "iopub.status.busy": "2023-06-22T05:02:09.933298Z",
     "iopub.status.idle": "2023-06-22T05:02:09.945313Z",
     "shell.execute_reply": "2023-06-22T05:02:09.943787Z"
    },
    "papermill": {
     "duration": 0.027541,
     "end_time": "2023-06-22T05:02:09.947804",
     "exception": false,
     "start_time": "2023-06-22T05:02:09.920263",
     "status": "completed"
    },
    "tags": []
   },
   "outputs": [
    {
     "data": {
      "text/html": [
       "<div>\n",
       "<style scoped>\n",
       "    .dataframe tbody tr th:only-of-type {\n",
       "        vertical-align: middle;\n",
       "    }\n",
       "\n",
       "    .dataframe tbody tr th {\n",
       "        vertical-align: top;\n",
       "    }\n",
       "\n",
       "    .dataframe thead th {\n",
       "        text-align: right;\n",
       "    }\n",
       "</style>\n",
       "<table border=\"1\" class=\"dataframe\">\n",
       "  <thead>\n",
       "    <tr style=\"text-align: right;\">\n",
       "      <th></th>\n",
       "      <th>0</th>\n",
       "    </tr>\n",
       "  </thead>\n",
       "  <tbody>\n",
       "    <tr>\n",
       "      <th>director</th>\n",
       "      <td>29.908028</td>\n",
       "    </tr>\n",
       "    <tr>\n",
       "      <th>country</th>\n",
       "      <td>9.435676</td>\n",
       "    </tr>\n",
       "    <tr>\n",
       "      <th>cast</th>\n",
       "      <td>9.367549</td>\n",
       "    </tr>\n",
       "    <tr>\n",
       "      <th>date_added</th>\n",
       "      <td>0.113546</td>\n",
       "    </tr>\n",
       "    <tr>\n",
       "      <th>rating</th>\n",
       "      <td>0.045418</td>\n",
       "    </tr>\n",
       "    <tr>\n",
       "      <th>duration</th>\n",
       "      <td>0.034064</td>\n",
       "    </tr>\n",
       "  </tbody>\n",
       "</table>\n",
       "</div>"
      ],
      "text/plain": [
       "                    0\n",
       "director    29.908028\n",
       "country      9.435676\n",
       "cast         9.367549\n",
       "date_added   0.113546\n",
       "rating       0.045418\n",
       "duration     0.034064"
      ]
     },
     "execution_count": 11,
     "metadata": {},
     "output_type": "execute_result"
    }
   ],
   "source": [
    "null_df"
   ]
  },
  {
   "cell_type": "code",
   "execution_count": 12,
   "id": "c2465cfd",
   "metadata": {
    "execution": {
     "iopub.execute_input": "2023-06-22T05:02:09.972606Z",
     "iopub.status.busy": "2023-06-22T05:02:09.972198Z",
     "iopub.status.idle": "2023-06-22T05:02:09.995184Z",
     "shell.execute_reply": "2023-06-22T05:02:09.993073Z"
    },
    "papermill": {
     "duration": 0.038665,
     "end_time": "2023-06-22T05:02:09.998211",
     "exception": false,
     "start_time": "2023-06-22T05:02:09.959546",
     "status": "completed"
    },
    "tags": []
   },
   "outputs": [],
   "source": [
    "df[['rating' , 'date_added' , 'cast' , 'country' , 'director']] = df[['rating' , 'date_added' , 'cast' , 'country' , 'director']].fillna('NA')"
   ]
  },
  {
   "cell_type": "code",
   "execution_count": 13,
   "id": "0657f9e6",
   "metadata": {
    "execution": {
     "iopub.execute_input": "2023-06-22T05:02:10.024543Z",
     "iopub.status.busy": "2023-06-22T05:02:10.024076Z",
     "iopub.status.idle": "2023-06-22T05:02:10.047385Z",
     "shell.execute_reply": "2023-06-22T05:02:10.046010Z"
    },
    "papermill": {
     "duration": 0.039196,
     "end_time": "2023-06-22T05:02:10.049452",
     "exception": false,
     "start_time": "2023-06-22T05:02:10.010256",
     "status": "completed"
    },
    "tags": []
   },
   "outputs": [],
   "source": [
    "null_df = pd.DataFrame(df.isnull().sum().sort_values(ascending = False)*100/len(df))[0:1]"
   ]
  },
  {
   "cell_type": "code",
   "execution_count": 14,
   "id": "ce50a500",
   "metadata": {
    "execution": {
     "iopub.execute_input": "2023-06-22T05:02:10.077009Z",
     "iopub.status.busy": "2023-06-22T05:02:10.076306Z",
     "iopub.status.idle": "2023-06-22T05:02:10.085938Z",
     "shell.execute_reply": "2023-06-22T05:02:10.084141Z"
    },
    "papermill": {
     "duration": 0.026485,
     "end_time": "2023-06-22T05:02:10.088664",
     "exception": false,
     "start_time": "2023-06-22T05:02:10.062179",
     "status": "completed"
    },
    "tags": []
   },
   "outputs": [
    {
     "data": {
      "text/html": [
       "<div>\n",
       "<style scoped>\n",
       "    .dataframe tbody tr th:only-of-type {\n",
       "        vertical-align: middle;\n",
       "    }\n",
       "\n",
       "    .dataframe tbody tr th {\n",
       "        vertical-align: top;\n",
       "    }\n",
       "\n",
       "    .dataframe thead th {\n",
       "        text-align: right;\n",
       "    }\n",
       "</style>\n",
       "<table border=\"1\" class=\"dataframe\">\n",
       "  <thead>\n",
       "    <tr style=\"text-align: right;\">\n",
       "      <th></th>\n",
       "      <th>0</th>\n",
       "    </tr>\n",
       "  </thead>\n",
       "  <tbody>\n",
       "    <tr>\n",
       "      <th>duration</th>\n",
       "      <td>0.034064</td>\n",
       "    </tr>\n",
       "  </tbody>\n",
       "</table>\n",
       "</div>"
      ],
      "text/plain": [
       "                 0\n",
       "duration  0.034064"
      ]
     },
     "execution_count": 14,
     "metadata": {},
     "output_type": "execute_result"
    }
   ],
   "source": [
    "null_df"
   ]
  },
  {
   "cell_type": "code",
   "execution_count": 15,
   "id": "e94e6cda",
   "metadata": {
    "execution": {
     "iopub.execute_input": "2023-06-22T05:02:10.114602Z",
     "iopub.status.busy": "2023-06-22T05:02:10.113369Z",
     "iopub.status.idle": "2023-06-22T05:02:10.122870Z",
     "shell.execute_reply": "2023-06-22T05:02:10.121367Z"
    },
    "papermill": {
     "duration": 0.025724,
     "end_time": "2023-06-22T05:02:10.126110",
     "exception": false,
     "start_time": "2023-06-22T05:02:10.100386",
     "status": "completed"
    },
    "tags": []
   },
   "outputs": [],
   "source": [
    "df['duration'] = df['duration'].fillna(0)"
   ]
  },
  {
   "cell_type": "markdown",
   "id": "a2358b28",
   "metadata": {
    "papermill": {
     "duration": 0.011706,
     "end_time": "2023-06-22T05:02:10.150189",
     "exception": false,
     "start_time": "2023-06-22T05:02:10.138483",
     "status": "completed"
    },
    "tags": []
   },
   "source": [
    "# **top 20 country that gives heighest movies on netflix**"
   ]
  },
  {
   "cell_type": "code",
   "execution_count": 16,
   "id": "7fad0bc6",
   "metadata": {
    "execution": {
     "iopub.execute_input": "2023-06-22T05:02:10.177064Z",
     "iopub.status.busy": "2023-06-22T05:02:10.175828Z",
     "iopub.status.idle": "2023-06-22T05:02:10.187087Z",
     "shell.execute_reply": "2023-06-22T05:02:10.185125Z"
    },
    "papermill": {
     "duration": 0.027622,
     "end_time": "2023-06-22T05:02:10.189772",
     "exception": false,
     "start_time": "2023-06-22T05:02:10.162150",
     "status": "completed"
    },
    "tags": []
   },
   "outputs": [],
   "source": [
    "movie1 = df[df['type'] == 'Movie']"
   ]
  },
  {
   "cell_type": "code",
   "execution_count": 17,
   "id": "81762001",
   "metadata": {
    "execution": {
     "iopub.execute_input": "2023-06-22T05:02:10.215963Z",
     "iopub.status.busy": "2023-06-22T05:02:10.215456Z",
     "iopub.status.idle": "2023-06-22T05:02:10.237982Z",
     "shell.execute_reply": "2023-06-22T05:02:10.236575Z"
    },
    "papermill": {
     "duration": 0.038086,
     "end_time": "2023-06-22T05:02:10.240150",
     "exception": false,
     "start_time": "2023-06-22T05:02:10.202064",
     "status": "completed"
    },
    "tags": []
   },
   "outputs": [
    {
     "data": {
      "text/html": [
       "<div>\n",
       "<style scoped>\n",
       "    .dataframe tbody tr th:only-of-type {\n",
       "        vertical-align: middle;\n",
       "    }\n",
       "\n",
       "    .dataframe tbody tr th {\n",
       "        vertical-align: top;\n",
       "    }\n",
       "\n",
       "    .dataframe thead th {\n",
       "        text-align: right;\n",
       "    }\n",
       "</style>\n",
       "<table border=\"1\" class=\"dataframe\">\n",
       "  <thead>\n",
       "    <tr style=\"text-align: right;\">\n",
       "      <th></th>\n",
       "      <th>type</th>\n",
       "      <th>title</th>\n",
       "      <th>director</th>\n",
       "      <th>cast</th>\n",
       "      <th>country</th>\n",
       "      <th>date_added</th>\n",
       "      <th>release_year</th>\n",
       "      <th>rating</th>\n",
       "      <th>duration</th>\n",
       "      <th>listed_in</th>\n",
       "      <th>description</th>\n",
       "    </tr>\n",
       "    <tr>\n",
       "      <th>show_id</th>\n",
       "      <th></th>\n",
       "      <th></th>\n",
       "      <th></th>\n",
       "      <th></th>\n",
       "      <th></th>\n",
       "      <th></th>\n",
       "      <th></th>\n",
       "      <th></th>\n",
       "      <th></th>\n",
       "      <th></th>\n",
       "      <th></th>\n",
       "    </tr>\n",
       "  </thead>\n",
       "  <tbody>\n",
       "    <tr>\n",
       "      <th>s1</th>\n",
       "      <td>Movie</td>\n",
       "      <td>Dick Johnson Is Dead</td>\n",
       "      <td>Kirsten Johnson</td>\n",
       "      <td>NA</td>\n",
       "      <td>United States</td>\n",
       "      <td>September 25, 2021</td>\n",
       "      <td>2020</td>\n",
       "      <td>PG-13</td>\n",
       "      <td>90 min</td>\n",
       "      <td>Documentaries</td>\n",
       "      <td>As her father nears the end of his life, filmm...</td>\n",
       "    </tr>\n",
       "    <tr>\n",
       "      <th>s7</th>\n",
       "      <td>Movie</td>\n",
       "      <td>My Little Pony: A New Generation</td>\n",
       "      <td>Robert Cullen, José Luis Ucha</td>\n",
       "      <td>Vanessa Hudgens, Kimiko Glenn, James Marsden, ...</td>\n",
       "      <td>NA</td>\n",
       "      <td>September 24, 2021</td>\n",
       "      <td>2021</td>\n",
       "      <td>PG</td>\n",
       "      <td>91 min</td>\n",
       "      <td>Children &amp; Family Movies</td>\n",
       "      <td>Equestria's divided. But a bright-eyed hero be...</td>\n",
       "    </tr>\n",
       "    <tr>\n",
       "      <th>s8</th>\n",
       "      <td>Movie</td>\n",
       "      <td>Sankofa</td>\n",
       "      <td>Haile Gerima</td>\n",
       "      <td>Kofi Ghanaba, Oyafunmike Ogunlano, Alexandra D...</td>\n",
       "      <td>United States, Ghana, Burkina Faso, United Kin...</td>\n",
       "      <td>September 24, 2021</td>\n",
       "      <td>1993</td>\n",
       "      <td>TV-MA</td>\n",
       "      <td>125 min</td>\n",
       "      <td>Dramas, Independent Movies, International Movies</td>\n",
       "      <td>On a photo shoot in Ghana, an American model s...</td>\n",
       "    </tr>\n",
       "    <tr>\n",
       "      <th>s10</th>\n",
       "      <td>Movie</td>\n",
       "      <td>The Starling</td>\n",
       "      <td>Theodore Melfi</td>\n",
       "      <td>Melissa McCarthy, Chris O'Dowd, Kevin Kline, T...</td>\n",
       "      <td>United States</td>\n",
       "      <td>September 24, 2021</td>\n",
       "      <td>2021</td>\n",
       "      <td>PG-13</td>\n",
       "      <td>104 min</td>\n",
       "      <td>Comedies, Dramas</td>\n",
       "      <td>A woman adjusting to life after a loss contend...</td>\n",
       "    </tr>\n",
       "    <tr>\n",
       "      <th>s13</th>\n",
       "      <td>Movie</td>\n",
       "      <td>Je Suis Karl</td>\n",
       "      <td>Christian Schwochow</td>\n",
       "      <td>Luna Wedler, Jannis Niewöhner, Milan Peschel, ...</td>\n",
       "      <td>Germany, Czech Republic</td>\n",
       "      <td>September 23, 2021</td>\n",
       "      <td>2021</td>\n",
       "      <td>TV-MA</td>\n",
       "      <td>127 min</td>\n",
       "      <td>Dramas, International Movies</td>\n",
       "      <td>After most of her family is murdered in a terr...</td>\n",
       "    </tr>\n",
       "    <tr>\n",
       "      <th>...</th>\n",
       "      <td>...</td>\n",
       "      <td>...</td>\n",
       "      <td>...</td>\n",
       "      <td>...</td>\n",
       "      <td>...</td>\n",
       "      <td>...</td>\n",
       "      <td>...</td>\n",
       "      <td>...</td>\n",
       "      <td>...</td>\n",
       "      <td>...</td>\n",
       "      <td>...</td>\n",
       "    </tr>\n",
       "    <tr>\n",
       "      <th>s8802</th>\n",
       "      <td>Movie</td>\n",
       "      <td>Zinzana</td>\n",
       "      <td>Majid Al Ansari</td>\n",
       "      <td>Ali Suliman, Saleh Bakri, Yasa, Ali Al-Jabri, ...</td>\n",
       "      <td>United Arab Emirates, Jordan</td>\n",
       "      <td>March 9, 2016</td>\n",
       "      <td>2015</td>\n",
       "      <td>TV-MA</td>\n",
       "      <td>96 min</td>\n",
       "      <td>Dramas, International Movies, Thrillers</td>\n",
       "      <td>Recovering alcoholic Talal wakes up inside a s...</td>\n",
       "    </tr>\n",
       "    <tr>\n",
       "      <th>s8803</th>\n",
       "      <td>Movie</td>\n",
       "      <td>Zodiac</td>\n",
       "      <td>David Fincher</td>\n",
       "      <td>Mark Ruffalo, Jake Gyllenhaal, Robert Downey J...</td>\n",
       "      <td>United States</td>\n",
       "      <td>November 20, 2019</td>\n",
       "      <td>2007</td>\n",
       "      <td>R</td>\n",
       "      <td>158 min</td>\n",
       "      <td>Cult Movies, Dramas, Thrillers</td>\n",
       "      <td>A political cartoonist, a crime reporter and a...</td>\n",
       "    </tr>\n",
       "    <tr>\n",
       "      <th>s8805</th>\n",
       "      <td>Movie</td>\n",
       "      <td>Zombieland</td>\n",
       "      <td>Ruben Fleischer</td>\n",
       "      <td>Jesse Eisenberg, Woody Harrelson, Emma Stone, ...</td>\n",
       "      <td>United States</td>\n",
       "      <td>November 1, 2019</td>\n",
       "      <td>2009</td>\n",
       "      <td>R</td>\n",
       "      <td>88 min</td>\n",
       "      <td>Comedies, Horror Movies</td>\n",
       "      <td>Looking to survive in a world taken over by zo...</td>\n",
       "    </tr>\n",
       "    <tr>\n",
       "      <th>s8806</th>\n",
       "      <td>Movie</td>\n",
       "      <td>Zoom</td>\n",
       "      <td>Peter Hewitt</td>\n",
       "      <td>Tim Allen, Courteney Cox, Chevy Chase, Kate Ma...</td>\n",
       "      <td>United States</td>\n",
       "      <td>January 11, 2020</td>\n",
       "      <td>2006</td>\n",
       "      <td>PG</td>\n",
       "      <td>88 min</td>\n",
       "      <td>Children &amp; Family Movies, Comedies</td>\n",
       "      <td>Dragged from civilian life, a former superhero...</td>\n",
       "    </tr>\n",
       "    <tr>\n",
       "      <th>s8807</th>\n",
       "      <td>Movie</td>\n",
       "      <td>Zubaan</td>\n",
       "      <td>Mozez Singh</td>\n",
       "      <td>Vicky Kaushal, Sarah-Jane Dias, Raaghav Chanan...</td>\n",
       "      <td>India</td>\n",
       "      <td>March 2, 2019</td>\n",
       "      <td>2015</td>\n",
       "      <td>TV-14</td>\n",
       "      <td>111 min</td>\n",
       "      <td>Dramas, International Movies, Music &amp; Musicals</td>\n",
       "      <td>A scrappy but poor boy worms his way into a ty...</td>\n",
       "    </tr>\n",
       "  </tbody>\n",
       "</table>\n",
       "<p>6131 rows × 11 columns</p>\n",
       "</div>"
      ],
      "text/plain": [
       "          type                             title  \\\n",
       "show_id                                            \n",
       "s1       Movie              Dick Johnson Is Dead   \n",
       "s7       Movie  My Little Pony: A New Generation   \n",
       "s8       Movie                           Sankofa   \n",
       "s10      Movie                      The Starling   \n",
       "s13      Movie                      Je Suis Karl   \n",
       "...        ...                               ...   \n",
       "s8802    Movie                           Zinzana   \n",
       "s8803    Movie                            Zodiac   \n",
       "s8805    Movie                        Zombieland   \n",
       "s8806    Movie                              Zoom   \n",
       "s8807    Movie                            Zubaan   \n",
       "\n",
       "                              director  \\\n",
       "show_id                                  \n",
       "s1                     Kirsten Johnson   \n",
       "s7       Robert Cullen, José Luis Ucha   \n",
       "s8                        Haile Gerima   \n",
       "s10                     Theodore Melfi   \n",
       "s13                Christian Schwochow   \n",
       "...                                ...   \n",
       "s8802                  Majid Al Ansari   \n",
       "s8803                    David Fincher   \n",
       "s8805                  Ruben Fleischer   \n",
       "s8806                     Peter Hewitt   \n",
       "s8807                      Mozez Singh   \n",
       "\n",
       "                                                      cast  \\\n",
       "show_id                                                      \n",
       "s1                                                      NA   \n",
       "s7       Vanessa Hudgens, Kimiko Glenn, James Marsden, ...   \n",
       "s8       Kofi Ghanaba, Oyafunmike Ogunlano, Alexandra D...   \n",
       "s10      Melissa McCarthy, Chris O'Dowd, Kevin Kline, T...   \n",
       "s13      Luna Wedler, Jannis Niewöhner, Milan Peschel, ...   \n",
       "...                                                    ...   \n",
       "s8802    Ali Suliman, Saleh Bakri, Yasa, Ali Al-Jabri, ...   \n",
       "s8803    Mark Ruffalo, Jake Gyllenhaal, Robert Downey J...   \n",
       "s8805    Jesse Eisenberg, Woody Harrelson, Emma Stone, ...   \n",
       "s8806    Tim Allen, Courteney Cox, Chevy Chase, Kate Ma...   \n",
       "s8807    Vicky Kaushal, Sarah-Jane Dias, Raaghav Chanan...   \n",
       "\n",
       "                                                   country  \\\n",
       "show_id                                                      \n",
       "s1                                           United States   \n",
       "s7                                                      NA   \n",
       "s8       United States, Ghana, Burkina Faso, United Kin...   \n",
       "s10                                          United States   \n",
       "s13                                Germany, Czech Republic   \n",
       "...                                                    ...   \n",
       "s8802                         United Arab Emirates, Jordan   \n",
       "s8803                                        United States   \n",
       "s8805                                        United States   \n",
       "s8806                                        United States   \n",
       "s8807                                                India   \n",
       "\n",
       "                 date_added  release_year rating duration  \\\n",
       "show_id                                                     \n",
       "s1       September 25, 2021          2020  PG-13   90 min   \n",
       "s7       September 24, 2021          2021     PG   91 min   \n",
       "s8       September 24, 2021          1993  TV-MA  125 min   \n",
       "s10      September 24, 2021          2021  PG-13  104 min   \n",
       "s13      September 23, 2021          2021  TV-MA  127 min   \n",
       "...                     ...           ...    ...      ...   \n",
       "s8802         March 9, 2016          2015  TV-MA   96 min   \n",
       "s8803     November 20, 2019          2007      R  158 min   \n",
       "s8805      November 1, 2019          2009      R   88 min   \n",
       "s8806      January 11, 2020          2006     PG   88 min   \n",
       "s8807         March 2, 2019          2015  TV-14  111 min   \n",
       "\n",
       "                                                listed_in  \\\n",
       "show_id                                                     \n",
       "s1                                          Documentaries   \n",
       "s7                               Children & Family Movies   \n",
       "s8       Dramas, Independent Movies, International Movies   \n",
       "s10                                      Comedies, Dramas   \n",
       "s13                          Dramas, International Movies   \n",
       "...                                                   ...   \n",
       "s8802             Dramas, International Movies, Thrillers   \n",
       "s8803                      Cult Movies, Dramas, Thrillers   \n",
       "s8805                             Comedies, Horror Movies   \n",
       "s8806                  Children & Family Movies, Comedies   \n",
       "s8807      Dramas, International Movies, Music & Musicals   \n",
       "\n",
       "                                               description  \n",
       "show_id                                                     \n",
       "s1       As her father nears the end of his life, filmm...  \n",
       "s7       Equestria's divided. But a bright-eyed hero be...  \n",
       "s8       On a photo shoot in Ghana, an American model s...  \n",
       "s10      A woman adjusting to life after a loss contend...  \n",
       "s13      After most of her family is murdered in a terr...  \n",
       "...                                                    ...  \n",
       "s8802    Recovering alcoholic Talal wakes up inside a s...  \n",
       "s8803    A political cartoonist, a crime reporter and a...  \n",
       "s8805    Looking to survive in a world taken over by zo...  \n",
       "s8806    Dragged from civilian life, a former superhero...  \n",
       "s8807    A scrappy but poor boy worms his way into a ty...  \n",
       "\n",
       "[6131 rows x 11 columns]"
      ]
     },
     "execution_count": 17,
     "metadata": {},
     "output_type": "execute_result"
    }
   ],
   "source": [
    "movie1"
   ]
  },
  {
   "cell_type": "code",
   "execution_count": 18,
   "id": "34c4656c",
   "metadata": {
    "execution": {
     "iopub.execute_input": "2023-06-22T05:02:10.267697Z",
     "iopub.status.busy": "2023-06-22T05:02:10.267212Z",
     "iopub.status.idle": "2023-06-22T05:02:10.276593Z",
     "shell.execute_reply": "2023-06-22T05:02:10.275657Z"
    },
    "papermill": {
     "duration": 0.026353,
     "end_time": "2023-06-22T05:02:10.279201",
     "exception": false,
     "start_time": "2023-06-22T05:02:10.252848",
     "status": "completed"
    },
    "tags": []
   },
   "outputs": [],
   "source": [
    "movie2 = pd.DataFrame(movie1['country'].value_counts().reset_index())[0:21]"
   ]
  },
  {
   "cell_type": "code",
   "execution_count": 19,
   "id": "8698a75a",
   "metadata": {
    "execution": {
     "iopub.execute_input": "2023-06-22T05:02:10.307160Z",
     "iopub.status.busy": "2023-06-22T05:02:10.306722Z",
     "iopub.status.idle": "2023-06-22T05:02:10.311625Z",
     "shell.execute_reply": "2023-06-22T05:02:10.310781Z"
    },
    "papermill": {
     "duration": 0.021982,
     "end_time": "2023-06-22T05:02:10.313963",
     "exception": false,
     "start_time": "2023-06-22T05:02:10.291981",
     "status": "completed"
    },
    "tags": []
   },
   "outputs": [],
   "source": [
    "movie2.columns = ['country' , 'count']"
   ]
  },
  {
   "cell_type": "code",
   "execution_count": 20,
   "id": "9343955a",
   "metadata": {
    "execution": {
     "iopub.execute_input": "2023-06-22T05:02:10.342149Z",
     "iopub.status.busy": "2023-06-22T05:02:10.341753Z",
     "iopub.status.idle": "2023-06-22T05:02:10.351687Z",
     "shell.execute_reply": "2023-06-22T05:02:10.350495Z"
    },
    "papermill": {
     "duration": 0.027852,
     "end_time": "2023-06-22T05:02:10.354858",
     "exception": false,
     "start_time": "2023-06-22T05:02:10.327006",
     "status": "completed"
    },
    "tags": []
   },
   "outputs": [
    {
     "data": {
      "text/html": [
       "<div>\n",
       "<style scoped>\n",
       "    .dataframe tbody tr th:only-of-type {\n",
       "        vertical-align: middle;\n",
       "    }\n",
       "\n",
       "    .dataframe tbody tr th {\n",
       "        vertical-align: top;\n",
       "    }\n",
       "\n",
       "    .dataframe thead th {\n",
       "        text-align: right;\n",
       "    }\n",
       "</style>\n",
       "<table border=\"1\" class=\"dataframe\">\n",
       "  <thead>\n",
       "    <tr style=\"text-align: right;\">\n",
       "      <th></th>\n",
       "      <th>country</th>\n",
       "      <th>count</th>\n",
       "    </tr>\n",
       "  </thead>\n",
       "  <tbody>\n",
       "    <tr>\n",
       "      <th>0</th>\n",
       "      <td>United States</td>\n",
       "      <td>2058</td>\n",
       "    </tr>\n",
       "    <tr>\n",
       "      <th>1</th>\n",
       "      <td>India</td>\n",
       "      <td>893</td>\n",
       "    </tr>\n",
       "    <tr>\n",
       "      <th>2</th>\n",
       "      <td>NA</td>\n",
       "      <td>440</td>\n",
       "    </tr>\n",
       "    <tr>\n",
       "      <th>3</th>\n",
       "      <td>United Kingdom</td>\n",
       "      <td>206</td>\n",
       "    </tr>\n",
       "    <tr>\n",
       "      <th>4</th>\n",
       "      <td>Canada</td>\n",
       "      <td>122</td>\n",
       "    </tr>\n",
       "    <tr>\n",
       "      <th>5</th>\n",
       "      <td>Spain</td>\n",
       "      <td>97</td>\n",
       "    </tr>\n",
       "    <tr>\n",
       "      <th>6</th>\n",
       "      <td>Egypt</td>\n",
       "      <td>92</td>\n",
       "    </tr>\n",
       "    <tr>\n",
       "      <th>7</th>\n",
       "      <td>Nigeria</td>\n",
       "      <td>86</td>\n",
       "    </tr>\n",
       "    <tr>\n",
       "      <th>8</th>\n",
       "      <td>Indonesia</td>\n",
       "      <td>77</td>\n",
       "    </tr>\n",
       "    <tr>\n",
       "      <th>9</th>\n",
       "      <td>Turkey</td>\n",
       "      <td>76</td>\n",
       "    </tr>\n",
       "    <tr>\n",
       "      <th>10</th>\n",
       "      <td>Japan</td>\n",
       "      <td>76</td>\n",
       "    </tr>\n",
       "    <tr>\n",
       "      <th>11</th>\n",
       "      <td>France</td>\n",
       "      <td>75</td>\n",
       "    </tr>\n",
       "    <tr>\n",
       "      <th>12</th>\n",
       "      <td>Philippines</td>\n",
       "      <td>73</td>\n",
       "    </tr>\n",
       "    <tr>\n",
       "      <th>13</th>\n",
       "      <td>Mexico</td>\n",
       "      <td>70</td>\n",
       "    </tr>\n",
       "    <tr>\n",
       "      <th>14</th>\n",
       "      <td>United Kingdom, United States</td>\n",
       "      <td>63</td>\n",
       "    </tr>\n",
       "    <tr>\n",
       "      <th>15</th>\n",
       "      <td>United States, Canada</td>\n",
       "      <td>51</td>\n",
       "    </tr>\n",
       "    <tr>\n",
       "      <th>16</th>\n",
       "      <td>Brazil</td>\n",
       "      <td>50</td>\n",
       "    </tr>\n",
       "    <tr>\n",
       "      <th>17</th>\n",
       "      <td>Hong Kong</td>\n",
       "      <td>50</td>\n",
       "    </tr>\n",
       "    <tr>\n",
       "      <th>18</th>\n",
       "      <td>Germany</td>\n",
       "      <td>47</td>\n",
       "    </tr>\n",
       "    <tr>\n",
       "      <th>19</th>\n",
       "      <td>South Korea</td>\n",
       "      <td>41</td>\n",
       "    </tr>\n",
       "    <tr>\n",
       "      <th>20</th>\n",
       "      <td>Australia</td>\n",
       "      <td>39</td>\n",
       "    </tr>\n",
       "  </tbody>\n",
       "</table>\n",
       "</div>"
      ],
      "text/plain": [
       "                          country  count\n",
       "0                   United States   2058\n",
       "1                           India    893\n",
       "2                              NA    440\n",
       "3                  United Kingdom    206\n",
       "4                          Canada    122\n",
       "5                           Spain     97\n",
       "6                           Egypt     92\n",
       "7                         Nigeria     86\n",
       "8                       Indonesia     77\n",
       "9                          Turkey     76\n",
       "10                          Japan     76\n",
       "11                         France     75\n",
       "12                    Philippines     73\n",
       "13                         Mexico     70\n",
       "14  United Kingdom, United States     63\n",
       "15          United States, Canada     51\n",
       "16                         Brazil     50\n",
       "17                      Hong Kong     50\n",
       "18                        Germany     47\n",
       "19                    South Korea     41\n",
       "20                      Australia     39"
      ]
     },
     "execution_count": 20,
     "metadata": {},
     "output_type": "execute_result"
    }
   ],
   "source": [
    "movie2"
   ]
  },
  {
   "cell_type": "code",
   "execution_count": 21,
   "id": "485df5ea",
   "metadata": {
    "execution": {
     "iopub.execute_input": "2023-06-22T05:02:10.382602Z",
     "iopub.status.busy": "2023-06-22T05:02:10.382155Z",
     "iopub.status.idle": "2023-06-22T05:02:10.730399Z",
     "shell.execute_reply": "2023-06-22T05:02:10.728740Z"
    },
    "papermill": {
     "duration": 0.365406,
     "end_time": "2023-06-22T05:02:10.733192",
     "exception": false,
     "start_time": "2023-06-22T05:02:10.367786",
     "status": "completed"
    },
    "tags": []
   },
   "outputs": [
    {
     "data": {
      "text/plain": [
       "<Axes: xlabel='count', ylabel='country'>"
      ]
     },
     "execution_count": 21,
     "metadata": {},
     "output_type": "execute_result"
    },
    {
     "data": {
      "image/png": "[encoded data removed]",
      "text/plain": [
       "<Figure size 640x480 with 1 Axes>"
      ]
     },
     "metadata": {},
     "output_type": "display_data"
    }
   ],
   "source": [
    "sns.barplot(movie2 , y = 'country' , x = 'count')"
   ]
  },
  {
   "cell_type": "markdown",
   "id": "54fc90cf",
   "metadata": {
    "papermill": {
     "duration": 0.012639,
     "end_time": "2023-06-22T05:02:10.759285",
     "exception": false,
     "start_time": "2023-06-22T05:02:10.746646",
     "status": "completed"
    },
    "tags": []
   },
   "source": [
    "# **top 20 countries that gives heighest tv shows in netflix**"
   ]
  },
  {
   "cell_type": "code",
   "execution_count": 22,
   "id": "96019f69",
   "metadata": {
    "execution": {
     "iopub.execute_input": "2023-06-22T05:02:10.790471Z",
     "iopub.status.busy": "2023-06-22T05:02:10.789355Z",
     "iopub.status.idle": "2023-06-22T05:02:10.798238Z",
     "shell.execute_reply": "2023-06-22T05:02:10.796182Z"
    },
    "papermill": {
     "duration": 0.029588,
     "end_time": "2023-06-22T05:02:10.801963",
     "exception": false,
     "start_time": "2023-06-22T05:02:10.772375",
     "status": "completed"
    },
    "tags": []
   },
   "outputs": [],
   "source": [
    "tv_shows1 = df[df['type'] == 'TV Show']"
   ]
  },
  {
   "cell_type": "code",
   "execution_count": 23,
   "id": "371ded28",
   "metadata": {
    "execution": {
     "iopub.execute_input": "2023-06-22T05:02:10.831857Z",
     "iopub.status.busy": "2023-06-22T05:02:10.831079Z",
     "iopub.status.idle": "2023-06-22T05:02:10.836283Z",
     "shell.execute_reply": "2023-06-22T05:02:10.835546Z"
    },
    "papermill": {
     "duration": 0.023147,
     "end_time": "2023-06-22T05:02:10.838924",
     "exception": false,
     "start_time": "2023-06-22T05:02:10.815777",
     "status": "completed"
    },
    "tags": []
   },
   "outputs": [],
   "source": [
    "tv_shows = tv_shows1['country'].value_counts()"
   ]
  },
  {
   "cell_type": "code",
   "execution_count": 24,
   "id": "aa55cf2a",
   "metadata": {
    "execution": {
     "iopub.execute_input": "2023-06-22T05:02:10.867881Z",
     "iopub.status.busy": "2023-06-22T05:02:10.867221Z",
     "iopub.status.idle": "2023-06-22T05:02:10.872405Z",
     "shell.execute_reply": "2023-06-22T05:02:10.871145Z"
    },
    "papermill": {
     "duration": 0.022867,
     "end_time": "2023-06-22T05:02:10.875143",
     "exception": false,
     "start_time": "2023-06-22T05:02:10.852276",
     "status": "completed"
    },
    "tags": []
   },
   "outputs": [],
   "source": [
    "tv_shows = pd.DataFrame(tv_shows)[0:20]"
   ]
  },
  {
   "cell_type": "code",
   "execution_count": 25,
   "id": "594ee897",
   "metadata": {
    "execution": {
     "iopub.execute_input": "2023-06-22T05:02:10.904236Z",
     "iopub.status.busy": "2023-06-22T05:02:10.903763Z",
     "iopub.status.idle": "2023-06-22T05:02:11.236151Z",
     "shell.execute_reply": "2023-06-22T05:02:11.235128Z"
    },
    "papermill": {
     "duration": 0.350024,
     "end_time": "2023-06-22T05:02:11.238494",
     "exception": false,
     "start_time": "2023-06-22T05:02:10.888470",
     "status": "completed"
    },
    "tags": []
   },
   "outputs": [
    {
     "data": {
      "text/plain": [
       "<Axes: xlabel='country'>"
      ]
     },
     "execution_count": 25,
     "metadata": {},
     "output_type": "execute_result"
    },
    {
     "data": {
      "image/png": "[encoded data removed]",
      "text/plain": [
       "<Figure size 640x480 with 1 Axes>"
      ]
     },
     "metadata": {},
     "output_type": "display_data"
    }
   ],
   "source": [
    "sns.barplot(tv_shows , x = 'country' , y = tv_shows.index)"
   ]
  },
  {
   "cell_type": "markdown",
   "id": "29345202",
   "metadata": {
    "papermill": {
     "duration": 0.012633,
     "end_time": "2023-06-22T05:02:11.264860",
     "exception": false,
     "start_time": "2023-06-22T05:02:11.252227",
     "status": "completed"
    },
    "tags": []
   },
   "source": [
    "# **top 10 types of tv programme netflix has streamed**"
   ]
  },
  {
   "cell_type": "code",
   "execution_count": 26,
   "id": "89632f40",
   "metadata": {
    "execution": {
     "iopub.execute_input": "2023-06-22T05:02:11.293412Z",
     "iopub.status.busy": "2023-06-22T05:02:11.292920Z",
     "iopub.status.idle": "2023-06-22T05:02:11.300615Z",
     "shell.execute_reply": "2023-06-22T05:02:11.299370Z"
    },
    "papermill": {
     "duration": 0.02495,
     "end_time": "2023-06-22T05:02:11.302863",
     "exception": false,
     "start_time": "2023-06-22T05:02:11.277913",
     "status": "completed"
    },
    "tags": []
   },
   "outputs": [],
   "source": [
    "type_df = pd.DataFrame(df['listed_in'].value_counts())[0:20]"
   ]
  },
  {
   "cell_type": "code",
   "execution_count": 27,
   "id": "c789d1a4",
   "metadata": {
    "execution": {
     "iopub.execute_input": "2023-06-22T05:02:11.333658Z",
     "iopub.status.busy": "2023-06-22T05:02:11.333209Z",
     "iopub.status.idle": "2023-06-22T05:02:11.701957Z",
     "shell.execute_reply": "2023-06-22T05:02:11.700934Z"
    },
    "papermill": {
     "duration": 0.386489,
     "end_time": "2023-06-22T05:02:11.704324",
     "exception": false,
     "start_time": "2023-06-22T05:02:11.317835",
     "status": "completed"
    },
    "tags": []
   },
   "outputs": [
    {
     "data": {
      "text/plain": [
       "<Axes: xlabel='listed_in'>"
      ]
     },
     "execution_count": 27,
     "metadata": {},
     "output_type": "execute_result"
    },
    {
     "data": {
      "image/png": "[encoded data removed]",
      "text/plain": [
       "<Figure size 640x480 with 1 Axes>"
      ]
     },
     "metadata": {},
     "output_type": "display_data"
    }
   ],
   "source": [
    "sns.barplot(type_df , y = type_df.index , x = 'listed_in')"
   ]
  },
  {
   "cell_type": "markdown",
   "id": "cc73ea8d",
   "metadata": {
    "papermill": {
     "duration": 0.014987,
     "end_time": "2023-06-22T05:02:11.734231",
     "exception": false,
     "start_time": "2023-06-22T05:02:11.719244",
     "status": "completed"
    },
    "tags": []
   },
   "source": [
    "# **movies that are made by united states as they are heighest in movie making**"
   ]
  },
  {
   "cell_type": "code",
   "execution_count": 28,
   "id": "fe1b15b2",
   "metadata": {
    "execution": {
     "iopub.execute_input": "2023-06-22T05:02:11.767706Z",
     "iopub.status.busy": "2023-06-22T05:02:11.766225Z",
     "iopub.status.idle": "2023-06-22T05:02:11.775242Z",
     "shell.execute_reply": "2023-06-22T05:02:11.773810Z"
    },
    "papermill": {
     "duration": 0.028857,
     "end_time": "2023-06-22T05:02:11.778105",
     "exception": false,
     "start_time": "2023-06-22T05:02:11.749248",
     "status": "completed"
    },
    "tags": []
   },
   "outputs": [],
   "source": [
    "uni_mov = df[(df['country'] == 'United States') & (df['type'] == 'Movie')]"
   ]
  },
  {
   "cell_type": "code",
   "execution_count": 29,
   "id": "c8cc94d0",
   "metadata": {
    "execution": {
     "iopub.execute_input": "2023-06-22T05:02:11.810375Z",
     "iopub.status.busy": "2023-06-22T05:02:11.809689Z",
     "iopub.status.idle": "2023-06-22T05:02:11.815038Z",
     "shell.execute_reply": "2023-06-22T05:02:11.814421Z"
    },
    "papermill": {
     "duration": 0.022989,
     "end_time": "2023-06-22T05:02:11.816923",
     "exception": false,
     "start_time": "2023-06-22T05:02:11.793934",
     "status": "completed"
    },
    "tags": []
   },
   "outputs": [],
   "source": [
    "uni_mov = uni_mov[['country' , 'type' , 'title']]"
   ]
  },
  {
   "cell_type": "code",
   "execution_count": 30,
   "id": "4c3fe5df",
   "metadata": {
    "execution": {
     "iopub.execute_input": "2023-06-22T05:02:11.847890Z",
     "iopub.status.busy": "2023-06-22T05:02:11.847189Z",
     "iopub.status.idle": "2023-06-22T05:02:11.856958Z",
     "shell.execute_reply": "2023-06-22T05:02:11.856140Z"
    },
    "papermill": {
     "duration": 0.028915,
     "end_time": "2023-06-22T05:02:11.860216",
     "exception": false,
     "start_time": "2023-06-22T05:02:11.831301",
     "status": "completed"
    },
    "tags": []
   },
   "outputs": [
    {
     "data": {
      "text/html": [
       "<div>\n",
       "<style scoped>\n",
       "    .dataframe tbody tr th:only-of-type {\n",
       "        vertical-align: middle;\n",
       "    }\n",
       "\n",
       "    .dataframe tbody tr th {\n",
       "        vertical-align: top;\n",
       "    }\n",
       "\n",
       "    .dataframe thead th {\n",
       "        text-align: right;\n",
       "    }\n",
       "</style>\n",
       "<table border=\"1\" class=\"dataframe\">\n",
       "  <thead>\n",
       "    <tr style=\"text-align: right;\">\n",
       "      <th></th>\n",
       "      <th>country</th>\n",
       "      <th>type</th>\n",
       "      <th>title</th>\n",
       "    </tr>\n",
       "    <tr>\n",
       "      <th>show_id</th>\n",
       "      <th></th>\n",
       "      <th></th>\n",
       "      <th></th>\n",
       "    </tr>\n",
       "  </thead>\n",
       "  <tbody>\n",
       "    <tr>\n",
       "      <th>s1</th>\n",
       "      <td>United States</td>\n",
       "      <td>Movie</td>\n",
       "      <td>Dick Johnson Is Dead</td>\n",
       "    </tr>\n",
       "    <tr>\n",
       "      <th>s10</th>\n",
       "      <td>United States</td>\n",
       "      <td>Movie</td>\n",
       "      <td>The Starling</td>\n",
       "    </tr>\n",
       "    <tr>\n",
       "      <th>s28</th>\n",
       "      <td>United States</td>\n",
       "      <td>Movie</td>\n",
       "      <td>Grown Ups</td>\n",
       "    </tr>\n",
       "    <tr>\n",
       "      <th>s29</th>\n",
       "      <td>United States</td>\n",
       "      <td>Movie</td>\n",
       "      <td>Dark Skies</td>\n",
       "    </tr>\n",
       "    <tr>\n",
       "      <th>s42</th>\n",
       "      <td>United States</td>\n",
       "      <td>Movie</td>\n",
       "      <td>Jaws</td>\n",
       "    </tr>\n",
       "    <tr>\n",
       "      <th>s43</th>\n",
       "      <td>United States</td>\n",
       "      <td>Movie</td>\n",
       "      <td>Jaws 2</td>\n",
       "    </tr>\n",
       "    <tr>\n",
       "      <th>s44</th>\n",
       "      <td>United States</td>\n",
       "      <td>Movie</td>\n",
       "      <td>Jaws 3</td>\n",
       "    </tr>\n",
       "    <tr>\n",
       "      <th>s45</th>\n",
       "      <td>United States</td>\n",
       "      <td>Movie</td>\n",
       "      <td>Jaws: The Revenge</td>\n",
       "    </tr>\n",
       "    <tr>\n",
       "      <th>s49</th>\n",
       "      <td>United States</td>\n",
       "      <td>Movie</td>\n",
       "      <td>Training Day</td>\n",
       "    </tr>\n",
       "    <tr>\n",
       "      <th>s82</th>\n",
       "      <td>United States</td>\n",
       "      <td>Movie</td>\n",
       "      <td>Kate</td>\n",
       "    </tr>\n",
       "  </tbody>\n",
       "</table>\n",
       "</div>"
      ],
      "text/plain": [
       "               country   type                 title\n",
       "show_id                                            \n",
       "s1       United States  Movie  Dick Johnson Is Dead\n",
       "s10      United States  Movie          The Starling\n",
       "s28      United States  Movie             Grown Ups\n",
       "s29      United States  Movie            Dark Skies\n",
       "s42      United States  Movie                  Jaws\n",
       "s43      United States  Movie                Jaws 2\n",
       "s44      United States  Movie                Jaws 3\n",
       "s45      United States  Movie     Jaws: The Revenge\n",
       "s49      United States  Movie          Training Day\n",
       "s82      United States  Movie                  Kate"
      ]
     },
     "execution_count": 30,
     "metadata": {},
     "output_type": "execute_result"
    }
   ],
   "source": [
    "uni_mov[0:10]"
   ]
  },
  {
   "cell_type": "markdown",
   "id": "8b3084aa",
   "metadata": {
    "papermill": {
     "duration": 0.014821,
     "end_time": "2023-06-22T05:02:11.890477",
     "exception": false,
     "start_time": "2023-06-22T05:02:11.875656",
     "status": "completed"
    },
    "tags": []
   },
   "source": [
    "# **tv shows that are made by united states as they are heighest in movie making**"
   ]
  },
  {
   "cell_type": "code",
   "execution_count": 31,
   "id": "8de3a7ce",
   "metadata": {
    "execution": {
     "iopub.execute_input": "2023-06-22T05:02:11.923811Z",
     "iopub.status.busy": "2023-06-22T05:02:11.922969Z",
     "iopub.status.idle": "2023-06-22T05:02:11.931794Z",
     "shell.execute_reply": "2023-06-22T05:02:11.930027Z"
    },
    "papermill": {
     "duration": 0.029267,
     "end_time": "2023-06-22T05:02:11.935070",
     "exception": false,
     "start_time": "2023-06-22T05:02:11.905803",
     "status": "completed"
    },
    "tags": []
   },
   "outputs": [],
   "source": [
    "uni_tv = df[(df['country'] == 'United States') & (df['type'] == 'TV Show')]"
   ]
  },
  {
   "cell_type": "code",
   "execution_count": 32,
   "id": "97f0799c",
   "metadata": {
    "execution": {
     "iopub.execute_input": "2023-06-22T05:02:11.967024Z",
     "iopub.status.busy": "2023-06-22T05:02:11.966526Z",
     "iopub.status.idle": "2023-06-22T05:02:11.973270Z",
     "shell.execute_reply": "2023-06-22T05:02:11.971776Z"
    },
    "papermill": {
     "duration": 0.025873,
     "end_time": "2023-06-22T05:02:11.975997",
     "exception": false,
     "start_time": "2023-06-22T05:02:11.950124",
     "status": "completed"
    },
    "tags": []
   },
   "outputs": [],
   "source": [
    "uni_tv = uni_tv[['country' , 'type' , 'title']]"
   ]
  },
  {
   "cell_type": "code",
   "execution_count": 33,
   "id": "0cb37b07",
   "metadata": {
    "execution": {
     "iopub.execute_input": "2023-06-22T05:02:12.008424Z",
     "iopub.status.busy": "2023-06-22T05:02:12.008057Z",
     "iopub.status.idle": "2023-06-22T05:02:12.018747Z",
     "shell.execute_reply": "2023-06-22T05:02:12.017952Z"
    },
    "papermill": {
     "duration": 0.029286,
     "end_time": "2023-06-22T05:02:12.020596",
     "exception": false,
     "start_time": "2023-06-22T05:02:11.991310",
     "status": "completed"
    },
    "tags": []
   },
   "outputs": [
    {
     "data": {
      "text/html": [
       "<div>\n",
       "<style scoped>\n",
       "    .dataframe tbody tr th:only-of-type {\n",
       "        vertical-align: middle;\n",
       "    }\n",
       "\n",
       "    .dataframe tbody tr th {\n",
       "        vertical-align: top;\n",
       "    }\n",
       "\n",
       "    .dataframe thead th {\n",
       "        text-align: right;\n",
       "    }\n",
       "</style>\n",
       "<table border=\"1\" class=\"dataframe\">\n",
       "  <thead>\n",
       "    <tr style=\"text-align: right;\">\n",
       "      <th></th>\n",
       "      <th>country</th>\n",
       "      <th>type</th>\n",
       "      <th>title</th>\n",
       "    </tr>\n",
       "    <tr>\n",
       "      <th>show_id</th>\n",
       "      <th></th>\n",
       "      <th></th>\n",
       "      <th></th>\n",
       "    </tr>\n",
       "  </thead>\n",
       "  <tbody>\n",
       "    <tr>\n",
       "      <th>s16</th>\n",
       "      <td>United States</td>\n",
       "      <td>TV Show</td>\n",
       "      <td>Dear White People</td>\n",
       "    </tr>\n",
       "    <tr>\n",
       "      <th>s41</th>\n",
       "      <td>United States</td>\n",
       "      <td>TV Show</td>\n",
       "      <td>He-Man and the Masters of the Universe</td>\n",
       "    </tr>\n",
       "    <tr>\n",
       "      <th>s56</th>\n",
       "      <td>United States</td>\n",
       "      <td>TV Show</td>\n",
       "      <td>Nailed It</td>\n",
       "    </tr>\n",
       "    <tr>\n",
       "      <th>s68</th>\n",
       "      <td>United States</td>\n",
       "      <td>TV Show</td>\n",
       "      <td>Saved by the Bell</td>\n",
       "    </tr>\n",
       "    <tr>\n",
       "      <th>s83</th>\n",
       "      <td>United States</td>\n",
       "      <td>TV Show</td>\n",
       "      <td>Lucifer</td>\n",
       "    </tr>\n",
       "    <tr>\n",
       "      <th>s98</th>\n",
       "      <td>United States</td>\n",
       "      <td>TV Show</td>\n",
       "      <td>Kid Cosmic</td>\n",
       "    </tr>\n",
       "    <tr>\n",
       "      <th>s107</th>\n",
       "      <td>United States</td>\n",
       "      <td>TV Show</td>\n",
       "      <td>Bunk'd</td>\n",
       "    </tr>\n",
       "    <tr>\n",
       "      <th>s126</th>\n",
       "      <td>United States</td>\n",
       "      <td>TV Show</td>\n",
       "      <td>Q-Force</td>\n",
       "    </tr>\n",
       "    <tr>\n",
       "      <th>s161</th>\n",
       "      <td>United States</td>\n",
       "      <td>TV Show</td>\n",
       "      <td>Major Dad</td>\n",
       "    </tr>\n",
       "    <tr>\n",
       "      <th>s185</th>\n",
       "      <td>United States</td>\n",
       "      <td>TV Show</td>\n",
       "      <td>Sparking Joy</td>\n",
       "    </tr>\n",
       "  </tbody>\n",
       "</table>\n",
       "</div>"
      ],
      "text/plain": [
       "               country     type                                   title\n",
       "show_id                                                                \n",
       "s16      United States  TV Show                       Dear White People\n",
       "s41      United States  TV Show  He-Man and the Masters of the Universe\n",
       "s56      United States  TV Show                               Nailed It\n",
       "s68      United States  TV Show                       Saved by the Bell\n",
       "s83      United States  TV Show                                 Lucifer\n",
       "s98      United States  TV Show                              Kid Cosmic\n",
       "s107     United States  TV Show                                  Bunk'd\n",
       "s126     United States  TV Show                                 Q-Force\n",
       "s161     United States  TV Show                               Major Dad\n",
       "s185     United States  TV Show                            Sparking Joy"
      ]
     },
     "execution_count": 33,
     "metadata": {},
     "output_type": "execute_result"
    }
   ],
   "source": [
    "uni_tv[0:10]"
   ]
  },
  {
   "cell_type": "markdown",
   "id": "003b971f",
   "metadata": {
    "papermill": {
     "duration": 0.014903,
     "end_time": "2023-06-22T05:02:12.050761",
     "exception": false,
     "start_time": "2023-06-22T05:02:12.035858",
     "status": "completed"
    },
    "tags": []
   },
   "source": [
    "# **top 10 movie making director**"
   ]
  },
  {
   "cell_type": "code",
   "execution_count": 34,
   "id": "3e518476",
   "metadata": {
    "execution": {
     "iopub.execute_input": "2023-06-22T05:02:12.084485Z",
     "iopub.status.busy": "2023-06-22T05:02:12.083696Z",
     "iopub.status.idle": "2023-06-22T05:02:12.091390Z",
     "shell.execute_reply": "2023-06-22T05:02:12.090103Z"
    },
    "papermill": {
     "duration": 0.027872,
     "end_time": "2023-06-22T05:02:12.094210",
     "exception": false,
     "start_time": "2023-06-22T05:02:12.066338",
     "status": "completed"
    },
    "tags": []
   },
   "outputs": [],
   "source": [
    "movie_dir = df[df['type'] == 'Movie']"
   ]
  },
  {
   "cell_type": "code",
   "execution_count": 35,
   "id": "d568b470",
   "metadata": {
    "execution": {
     "iopub.execute_input": "2023-06-22T05:02:12.127648Z",
     "iopub.status.busy": "2023-06-22T05:02:12.126903Z",
     "iopub.status.idle": "2023-06-22T05:02:12.370606Z",
     "shell.execute_reply": "2023-06-22T05:02:12.369528Z"
    },
    "papermill": {
     "duration": 0.263999,
     "end_time": "2023-06-22T05:02:12.373464",
     "exception": false,
     "start_time": "2023-06-22T05:02:12.109465",
     "status": "completed"
    },
    "tags": []
   },
   "outputs": [
    {
     "data": {
      "text/plain": [
       "<Axes: xlabel='director'>"
      ]
     },
     "execution_count": 35,
     "metadata": {},
     "output_type": "execute_result"
    },
    {
     "data": {
      "image/png": "[encoded data removed]",
      "text/plain": [
       "<Figure size 640x480 with 1 Axes>"
      ]
     },
     "metadata": {},
     "output_type": "display_data"
    }
   ],
   "source": [
    "movie_dir1 = pd.DataFrame(movie_dir['director'].value_counts())[1:11]\n",
    "sns.barplot(movie_dir1 , y = movie_dir1.index , x = 'director')"
   ]
  },
  {
   "cell_type": "markdown",
   "id": "aa918e42",
   "metadata": {
    "papermill": {
     "duration": 0.0151,
     "end_time": "2023-06-22T05:02:12.405626",
     "exception": false,
     "start_time": "2023-06-22T05:02:12.390526",
     "status": "completed"
    },
    "tags": []
   },
   "source": [
    "# **top 10 director from india**"
   ]
  },
  {
   "cell_type": "code",
   "execution_count": 36,
   "id": "b3640489",
   "metadata": {
    "execution": {
     "iopub.execute_input": "2023-06-22T05:02:12.442246Z",
     "iopub.status.busy": "2023-06-22T05:02:12.441780Z",
     "iopub.status.idle": "2023-06-22T05:02:12.452621Z",
     "shell.execute_reply": "2023-06-22T05:02:12.450524Z"
    },
    "papermill": {
     "duration": 0.031747,
     "end_time": "2023-06-22T05:02:12.454971",
     "exception": false,
     "start_time": "2023-06-22T05:02:12.423224",
     "status": "completed"
    },
    "tags": []
   },
   "outputs": [],
   "source": [
    "tv_dir = df[df['country'] == 'India']"
   ]
  },
  {
   "cell_type": "code",
   "execution_count": 37,
   "id": "e07bfe51",
   "metadata": {
    "execution": {
     "iopub.execute_input": "2023-06-22T05:02:12.488250Z",
     "iopub.status.busy": "2023-06-22T05:02:12.487883Z",
     "iopub.status.idle": "2023-06-22T05:02:12.721411Z",
     "shell.execute_reply": "2023-06-22T05:02:12.719243Z"
    },
    "papermill": {
     "duration": 0.253952,
     "end_time": "2023-06-22T05:02:12.724837",
     "exception": false,
     "start_time": "2023-06-22T05:02:12.470885",
     "status": "completed"
    },
    "tags": []
   },
   "outputs": [
    {
     "data": {
      "text/plain": [
       "<Axes: xlabel='director'>"
      ]
     },
     "execution_count": 37,
     "metadata": {},
     "output_type": "execute_result"
    },
    {
     "data": {
      "image/png": "[encoded data removed]",
      "text/plain": [
       "<Figure size 640x480 with 1 Axes>"
      ]
     },
     "metadata": {},
     "output_type": "display_data"
    }
   ],
   "source": [
    "tv_dir1 = pd.DataFrame(tv_dir['director'].value_counts())[1:11]\n",
    "sns.barplot(tv_dir1 , y = tv_dir1.index , x = 'director')"
   ]
  },
  {
   "cell_type": "markdown",
   "id": "f39918a7",
   "metadata": {
    "papermill": {
     "duration": 0.0158,
     "end_time": "2023-06-22T05:02:12.757430",
     "exception": false,
     "start_time": "2023-06-22T05:02:12.741630",
     "status": "completed"
    },
    "tags": []
   },
   "source": [
    "# **year wise movie release from netflix**"
   ]
  },
  {
   "cell_type": "code",
   "execution_count": 38,
   "id": "e36b17b5",
   "metadata": {
    "execution": {
     "iopub.execute_input": "2023-06-22T05:02:12.793665Z",
     "iopub.status.busy": "2023-06-22T05:02:12.791984Z",
     "iopub.status.idle": "2023-06-22T05:02:12.801390Z",
     "shell.execute_reply": "2023-06-22T05:02:12.799872Z"
    },
    "papermill": {
     "duration": 0.030957,
     "end_time": "2023-06-22T05:02:12.803943",
     "exception": false,
     "start_time": "2023-06-22T05:02:12.772986",
     "status": "completed"
    },
    "tags": []
   },
   "outputs": [],
   "source": [
    "year_mov = df[df['type'] == 'Movie']"
   ]
  },
  {
   "cell_type": "code",
   "execution_count": 39,
   "id": "d09e1322",
   "metadata": {
    "execution": {
     "iopub.execute_input": "2023-06-22T05:02:12.840782Z",
     "iopub.status.busy": "2023-06-22T05:02:12.840259Z",
     "iopub.status.idle": "2023-06-22T05:02:12.847680Z",
     "shell.execute_reply": "2023-06-22T05:02:12.846198Z"
    },
    "papermill": {
     "duration": 0.029147,
     "end_time": "2023-06-22T05:02:12.850275",
     "exception": false,
     "start_time": "2023-06-22T05:02:12.821128",
     "status": "completed"
    },
    "tags": []
   },
   "outputs": [],
   "source": [
    "year_mov = pd.DataFrame(year_mov['release_year'].value_counts())"
   ]
  },
  {
   "cell_type": "code",
   "execution_count": 40,
   "id": "8585453d",
   "metadata": {
    "execution": {
     "iopub.execute_input": "2023-06-22T05:02:12.886393Z",
     "iopub.status.busy": "2023-06-22T05:02:12.885677Z",
     "iopub.status.idle": "2023-06-22T05:02:12.894513Z",
     "shell.execute_reply": "2023-06-22T05:02:12.893840Z"
    },
    "papermill": {
     "duration": 0.02904,
     "end_time": "2023-06-22T05:02:12.896710",
     "exception": false,
     "start_time": "2023-06-22T05:02:12.867670",
     "status": "completed"
    },
    "tags": []
   },
   "outputs": [
    {
     "data": {
      "text/html": [
       "<div>\n",
       "<style scoped>\n",
       "    .dataframe tbody tr th:only-of-type {\n",
       "        vertical-align: middle;\n",
       "    }\n",
       "\n",
       "    .dataframe tbody tr th {\n",
       "        vertical-align: top;\n",
       "    }\n",
       "\n",
       "    .dataframe thead th {\n",
       "        text-align: right;\n",
       "    }\n",
       "</style>\n",
       "<table border=\"1\" class=\"dataframe\">\n",
       "  <thead>\n",
       "    <tr style=\"text-align: right;\">\n",
       "      <th></th>\n",
       "      <th>release_year</th>\n",
       "    </tr>\n",
       "  </thead>\n",
       "  <tbody>\n",
       "    <tr>\n",
       "      <th>2017</th>\n",
       "      <td>767</td>\n",
       "    </tr>\n",
       "    <tr>\n",
       "      <th>2018</th>\n",
       "      <td>767</td>\n",
       "    </tr>\n",
       "    <tr>\n",
       "      <th>2016</th>\n",
       "      <td>658</td>\n",
       "    </tr>\n",
       "    <tr>\n",
       "      <th>2019</th>\n",
       "      <td>633</td>\n",
       "    </tr>\n",
       "    <tr>\n",
       "      <th>2020</th>\n",
       "      <td>517</td>\n",
       "    </tr>\n",
       "    <tr>\n",
       "      <th>...</th>\n",
       "      <td>...</td>\n",
       "    </tr>\n",
       "    <tr>\n",
       "      <th>1966</th>\n",
       "      <td>1</td>\n",
       "    </tr>\n",
       "    <tr>\n",
       "      <th>1961</th>\n",
       "      <td>1</td>\n",
       "    </tr>\n",
       "    <tr>\n",
       "      <th>1946</th>\n",
       "      <td>1</td>\n",
       "    </tr>\n",
       "    <tr>\n",
       "      <th>1963</th>\n",
       "      <td>1</td>\n",
       "    </tr>\n",
       "    <tr>\n",
       "      <th>1947</th>\n",
       "      <td>1</td>\n",
       "    </tr>\n",
       "  </tbody>\n",
       "</table>\n",
       "<p>73 rows × 1 columns</p>\n",
       "</div>"
      ],
      "text/plain": [
       "      release_year\n",
       "2017           767\n",
       "2018           767\n",
       "2016           658\n",
       "2019           633\n",
       "2020           517\n",
       "...            ...\n",
       "1966             1\n",
       "1961             1\n",
       "1946             1\n",
       "1963             1\n",
       "1947             1\n",
       "\n",
       "[73 rows x 1 columns]"
      ]
     },
     "execution_count": 40,
     "metadata": {},
     "output_type": "execute_result"
    }
   ],
   "source": [
    "year_mov"
   ]
  },
  {
   "cell_type": "markdown",
   "id": "71b34008",
   "metadata": {
    "papermill": {
     "duration": 0.017468,
     "end_time": "2023-06-22T05:02:12.931722",
     "exception": false,
     "start_time": "2023-06-22T05:02:12.914254",
     "status": "completed"
    },
    "tags": []
   },
   "source": [
    "# **top 10 cast group in netflix**"
   ]
  },
  {
   "cell_type": "code",
   "execution_count": 41,
   "id": "24f3c64a",
   "metadata": {
    "execution": {
     "iopub.execute_input": "2023-06-22T05:02:12.966814Z",
     "iopub.status.busy": "2023-06-22T05:02:12.966103Z",
     "iopub.status.idle": "2023-06-22T05:02:12.975671Z",
     "shell.execute_reply": "2023-06-22T05:02:12.974909Z"
    },
    "papermill": {
     "duration": 0.030208,
     "end_time": "2023-06-22T05:02:12.978471",
     "exception": false,
     "start_time": "2023-06-22T05:02:12.948263",
     "status": "completed"
    },
    "tags": []
   },
   "outputs": [],
   "source": [
    "cast_df = pd.DataFrame(df['cast'].value_counts())[1:11]"
   ]
  },
  {
   "cell_type": "code",
   "execution_count": 42,
   "id": "41759484",
   "metadata": {
    "execution": {
     "iopub.execute_input": "2023-06-22T05:02:13.015365Z",
     "iopub.status.busy": "2023-06-22T05:02:13.014599Z",
     "iopub.status.idle": "2023-06-22T05:02:13.295190Z",
     "shell.execute_reply": "2023-06-22T05:02:13.294511Z"
    },
    "papermill": {
     "duration": 0.301625,
     "end_time": "2023-06-22T05:02:13.297555",
     "exception": false,
     "start_time": "2023-06-22T05:02:12.995930",
     "status": "completed"
    },
    "tags": []
   },
   "outputs": [
    {
     "data": {
      "text/plain": [
       "<Axes: xlabel='cast'>"
      ]
     },
     "execution_count": 42,
     "metadata": {},
     "output_type": "execute_result"
    },
    {
     "data": {
      "image/png": "[encoded data removed]",
      "text/plain": [
       "<Figure size 640x480 with 1 Axes>"
      ]
     },
     "metadata": {},
     "output_type": "display_data"
    }
   ],
   "source": [
    "sns.barplot(cast_df , x = 'cast' , y = cast_df.index)"
   ]
  }
 ],
 "metadata": {
  "kernelspec": {
   "display_name": "Python 3",
   "language": "python",
   "name": "python3"
  },
  "language_info": {
   "codemirror_mode": {
    "name": "ipython",
    "version": 3
   },
   "file_extension": ".py",
   "mimetype": "text/x-python",
   "name": "python",
   "nbconvert_exporter": "python",
   "pygments_lexer": "ipython3",
   "version": "3.10.10"
  },
  "papermill": {
   "default_parameters": {},
   "duration": 17.493254,
   "end_time": "2023-06-22T05:02:14.440555",
   "environment_variables": {},
   "exception": null,
   "input_path": "__notebook__.ipynb",
   "output_path": "__notebook__.ipynb",
   "parameters": {},
   "start_time": "2023-06-22T05:01:56.947301",
   "version": "2.4.0"
  }
 },
 "nbformat": 4,
 "nbformat_minor": 5
}
